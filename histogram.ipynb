{
  "nbformat": 4,
  "nbformat_minor": 0,
  "metadata": {
    "colab": {
      "provenance": [],
      "authorship_tag": "ABX9TyMxk3jCHCj8KseNnHJlUC3w",
      "include_colab_link": true
    },
    "kernelspec": {
      "name": "python3",
      "display_name": "Python 3"
    },
    "language_info": {
      "name": "python"
    }
  },
  "cells": [
    {
      "cell_type": "markdown",
      "metadata": {
        "id": "view-in-github",
        "colab_type": "text"
      },
      "source": [
        "<a href=\"https://colab.research.google.com/github/MarcYu0303/skills/blob/main/histogram.ipynb\" target=\"_parent\"><img src=\"https://colab.research.google.com/assets/colab-badge.svg\" alt=\"Open In Colab\"/></a>"
      ]
    },
    {
      "cell_type": "code",
      "execution_count": 48,
      "metadata": {
        "id": "-5Cqlmk6CQh1"
      },
      "outputs": [],
      "source": [
        "from google.colab.patches import cv2_imshow\n",
        "import cv2\n",
        "import numpy as np\n",
        "import matplotlib.pyplot as plt"
      ]
    },
    {
      "cell_type": "code",
      "source": [
        "pic1=np.zeros((400,400),dtype=np.uint8)\n",
        "pic1[:, 0:200] = 255\n",
        "cv2_imshow(pic1)"
      ],
      "metadata": {
        "colab": {
          "base_uri": "https://localhost:8080/",
          "height": 417
        },
        "id": "QSAGpRiuCYDn",
        "outputId": "a16188de-3730-4f18-b1df-188a6aa9774c"
      },
      "execution_count": 61,
      "outputs": [
        {
          "output_type": "display_data",
          "data": {
            "text/plain": [
              "<PIL.Image.Image image mode=L size=400x400 at 0x7F28C3DF8750>"
            ],
            "image/png": "[encoded data removed]"
          },
          "metadata": {}
        }
      ]
    },
    {
      "cell_type": "code",
      "source": [
        "pic2=np.zeros((400,400),dtype=np.uint8)\n",
        "for i in range(0, 8):\n",
        "  for j in range(0, 8):\n",
        "    if (i+j) % 2 == 0:\n",
        "      pic2[50*i:50*(i+1), 50*j:50*(j+1)] = 255\n",
        "cv2_imshow(pic2)"
      ],
      "metadata": {
        "colab": {
          "base_uri": "https://localhost:8080/",
          "height": 417
        },
        "id": "1zO67cbjDjfl",
        "outputId": "2b5273a2-1988-48e2-db3d-38f01cb0d54e"
      },
      "execution_count": 13,
      "outputs": [
        {
          "output_type": "display_data",
          "data": {
            "text/plain": [
              "<PIL.Image.Image image mode=L size=400x400 at 0x7F28D7F457D0>"
            ],
            "image/png": "[encoded data removed]"
          },
          "metadata": {}
        }
      ]
    },
    {
      "cell_type": "code",
      "source": [
        "pic1_blur = cv2.blur(pic1, (3, 3))\n",
        "pic2_blur = cv2.blur(pic2, (3, 3))"
      ],
      "metadata": {
        "id": "2IJ2dAJ6HhpX"
      },
      "execution_count": 29,
      "outputs": []
    },
    {
      "cell_type": "code",
      "source": [
        "hist1 = cv2.calcHist([pic1_blur], [0], None, [256], [0, 256])\n",
        "plt.plot(hist1)\n",
        "for i in range(len(hist1)):\n",
        "  if hist1[i] != 0:\n",
        "    print(i, hist1[i])"
      ],
      "metadata": {
        "colab": {
          "base_uri": "https://localhost:8080/",
          "height": 334
        },
        "id": "XDs5LAlnFpeO",
        "outputId": "f1448864-6dd3-4fcb-a589-3bc4cd8c7542"
      },
      "execution_count": 57,
      "outputs": [
        {
          "output_type": "stream",
          "name": "stdout",
          "text": [
            "0 [79600.]\n",
            "85 [400.]\n",
            "170 [400.]\n",
            "255 [79600.]\n"
          ]
        },
        {
          "output_type": "display_data",
          "data": {
            "text/plain": [
              "<Figure size 432x288 with 1 Axes>"
            ],
            "image/png": "[encoded data removed]"
          },
          "metadata": {
            "needs_background": "light"
          }
        }
      ]
    },
    {
      "cell_type": "code",
      "source": [
        "hist2 = cv2.calcHist([pic2_blur], [0], None, [256], [0, 256])\n",
        "plt.plot(hist2)\n",
        "for i in range(len(hist2)):\n",
        "  if hist2[i] != 0:\n",
        "    print(i, hist2[i])"
      ],
      "metadata": {
        "colab": {
          "base_uri": "https://localhost:8080/",
          "height": 369
        },
        "id": "690YQ24PKwh2",
        "outputId": "752bb86f-ba43-4cad-f273-b4bbd48e36f0"
      },
      "execution_count": 58,
      "outputs": [
        {
          "output_type": "stream",
          "name": "stdout",
          "text": [
            "0 [74498.]\n",
            "85 [5404.]\n",
            "113 [98.]\n",
            "142 [98.]\n",
            "170 [5404.]\n",
            "255 [74498.]\n"
          ]
        },
        {
          "output_type": "display_data",
          "data": {
            "text/plain": [
              "<Figure size 432x288 with 1 Axes>"
            ],
            "image/png": "[encoded data removed]"
          },
          "metadata": {
            "needs_background": "light"
          }
        }
      ]
    }
  ]
}